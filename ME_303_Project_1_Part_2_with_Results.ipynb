{
  "nbformat": 4,
  "nbformat_minor": 0,
  "metadata": {
    "colab": {
      "name": "ME 303 Project 1 Part 2 with Results.ipynb",
      "provenance": [],
      "collapsed_sections": [],
      "include_colab_link": true
    },
    "kernelspec": {
      "name": "python3",
      "display_name": "Python 3"
    }
  },
  "cells": [
    {
      "cell_type": "markdown",
      "metadata": {
        "id": "view-in-github",
        "colab_type": "text"
      },
      "source": [
        "<a href=\"https://colab.research.google.com/github/jimtzhou/303_351_joint/blob/master/ME_303_Project_1_Part_2_with_Results.ipynb\" target=\"_parent\"><img src=\"https://colab.research.google.com/assets/colab-badge.svg\" alt=\"Open In Colab\"/></a>"
      ]
    },
    {
      "cell_type": "code",
      "metadata": {
        "id": "VxMekLwcaz0B",
        "colab_type": "code",
        "colab": {}
      },
      "source": [
        "import numpy as np\n",
        "import math as math\n",
        "from matplotlib import pyplot as plt \n",
        "import random\n",
        "from sympy import *\n",
        "from numpy.linalg import inv"
      ],
      "execution_count": 72,
      "outputs": []
    },
    {
      "cell_type": "code",
      "metadata": {
        "id": "kXebUO_FZDlv",
        "colab_type": "code",
        "colab": {}
      },
      "source": [
        "def lambda_solve_condensed (v2, c_guess): # Iterates lambda_solve until c is within tolerance\n",
        "  c = c_guess + (TOL * 2) # Initial condition to run while loop\n",
        "  Re = reynolds(v2) # Solves for Reynolds\n",
        "  print(Re)\n",
        "  while (abs(c_guess - c) > TOL): # While the guesses are not within tolerance\n",
        "    c_guess = c # Overwrites old guess with new\n",
        "    c = -2 * (math.log10(((2.51 * c_guess)/Re ) + d)) #solves for a new lambda\n",
        "  \n",
        "  return c # Returns the converged values for C (aka 1/lambda^2)\n"
      ],
      "execution_count": 73,
      "outputs": []
    },
    {
      "cell_type": "markdown",
      "metadata": {
        "id": "laliG1DVc-vj",
        "colab_type": "text"
      },
      "source": [
        "lmao this code better work"
      ]
    },
    {
      "cell_type": "code",
      "metadata": {
        "id": "6JvBP8sr8EVE",
        "colab_type": "code",
        "colab": {
          "base_uri": "https://localhost:8080/",
          "height": 109
        },
        "outputId": "d0633dfa-bc65-4653-c45f-53fe50439bb9"
      },
      "source": [
        "#Global Variables\n",
        "\n",
        "g = 9.81\n",
        "d2 = 0.0055\n",
        "nu = 1.004e-6\n",
        "k = 1.5e-6\n",
        "rho = 1\n",
        "TOL = 0.01\n",
        "A2 = 2.3758e-5\n",
        "A1 = 6.666e-3\n",
        "d = k / (d2 * 3.72)\n",
        "D1 = 0.092127\n",
        "k1 = 0.42*(1-((d2**2)/(D1**2)))\n",
        "re_results = []\n",
        "\n",
        "\n",
        "#All the functions will be written here please\n",
        "\n",
        "def reynolds (v2):\n",
        "  #print(v2, \"Current V2 Reynolds Function\")\n",
        "  return v2 * d2 / nu # Calculates Renolds numbers based on V2 input\n",
        "\n",
        "def lambda_solve (Re, c_guess,locker): #Calculates the lambda function based on Renolds and the guessed value of C. Poops out a new guess\n",
        "  #if (Re < 2300):\n",
        "    #locker=True\n",
        "    #c = sqrt(Re/64)\n",
        "    #print (\"Laminar\")\n",
        "  #if (locker==true) or (c_guess <= 0):\n",
        "    #c = sqrt(Re/64)\n",
        "    #print (\"Laminar\")\n",
        "  #else:\n",
        "  c = -2 * (math.log10(((2.51 * c_guess)/Re ) + d))\n",
        "    #print (\"Turbulent\")\n",
        "\n",
        "\n",
        "  #print('c value')\n",
        "  #print(c)\n",
        "  return c, locker\n",
        "  \n",
        "def lambda_iteration (v2, c_guess, locker): # Iterates lambda_solve until c is within tolerance\n",
        "  c = c_guess + (TOL * 2) # Initial condition to run while loop\n",
        "  #print(v2, \"Lambda Function\")\n",
        "  Re = reynolds(v2) # Solves for Reynolds\n",
        "  #print(Re, \"Current Reynolds Number\")\n",
        "  re_results.append(Re)\n",
        "  \n",
        "  while (abs(c_guess - c) > TOL): # While the guesses are not within tolerance\n",
        "    c_guess = c # Overwrites old guess with new\n",
        "    c,locker = lambda_solve(Re, c_guess, locker) #solves for a new lambda\n",
        "      \n",
        "  return c # Returns the converged values for C (aka 1/lambda^2)\n",
        "\n",
        "def v2_solve (z, c, L): #c comes from lambda_solve\n",
        "  LS = 2 * rho * g * z\n",
        "  RS = (rho + ((1/c**2) * (L/d2)) + k1 - (rho * (A2**2))/A1**2)\n",
        "  #print (sqrt(LS / RS))\n",
        "  \n",
        "  return sqrt(LS / RS)\n",
        "    \n",
        "def h_prime(z, v2_guess, c_guess, L, locker):\n",
        "  v2_new = v2_guess + (TOL * 2)\n",
        "\n",
        "  while (abs(v2_new - v2_guess) > TOL):\n",
        "    v2_guess = v2_new\n",
        "    c = lambda_iteration(v2_guess, c_guess, locker)\n",
        "    v2_new = v2_solve(z, c, L)\n",
        "    #print (\"New V2 Solve and V2 value is:\", v2_new )\n",
        "   \n",
        "  #print('new V2 Iteration')\n",
        "  \n",
        "  return -(A2 * v2_new) / A1\n",
        "\n",
        "def RK4(z, dt, v2_guess, c_guess, L, locker):\n",
        "  s1 = h_prime(z, v2_guess, c_guess, L, locker)\n",
        "  s2 = h_prime(z + (0.5 * s1) * dt, v2_guess, c_guess, L, locker)\n",
        "  s3 = h_prime(z + (0.5 * s2) * dt, v2_guess, c_guess, L, locker)\n",
        "  s4 = h_prime(z + (s3 * dt), v2_guess, c_guess, L, locker)\n",
        "  \n",
        "  return (dt * (s1 + 2*s2 + 2*s3 + s4)) / 6   # This is the better slope\n",
        "\n",
        "# Main code\n",
        "delta_t = 0.1\n",
        "time_range = 110\n",
        "iterations = int(time_range/delta_t)\n",
        "time = np.arange (0.0, time_range, delta_t)\n",
        "#v2_guess = 5.0\n",
        "#c_guess = 6.0 # Assumes Re of 2000\n",
        "L = [0.02,0.06,0.1,0.14,0.18]\n",
        "#locker = False\n",
        "\n",
        "#h = 0.3 - 0.044\n",
        "H = np.zeros((iterations,2,5))\n",
        "for k in range(5):\n",
        "  i = 0\n",
        "  v2_guess = 5.0\n",
        "  c_guess = 6.0 # Assumes Re of 2000\n",
        "  locker = False\n",
        "  h = 0.3 - 0.044\n",
        "  for t in time:\n",
        "\n",
        "    H[i,0,k] = t\n",
        "    h = h + RK4(h, delta_t, v2_guess, c_guess, L[k], locker)\n",
        "    H[i,1,k] = h\n",
        "    #print(H[i,1])\n",
        "    #print(RK4(h, delta_t, v2_guess, c_guess, L))\n",
        "    if h < 1e-4:\n",
        "      break\n",
        "    i += 1\n",
        "  print (\"New Length\")\n",
        "\n"
      ],
      "execution_count": 74,
      "outputs": [
        {
          "output_type": "stream",
          "text": [
            "New Length\n",
            "New Length\n",
            "New Length\n",
            "New Length\n",
            "New Length\n"
          ],
          "name": "stdout"
        }
      ]
    },
    {
      "cell_type": "code",
      "metadata": {
        "id": "QljrHxkQH0mE",
        "colab_type": "code",
        "colab": {
          "base_uri": "https://localhost:8080/",
          "height": 313
        },
        "outputId": "e6f6eaf4-5444-4ff3-84aa-fd9c03cbff82"
      },
      "source": [
        "plt.plot(time, H[:,1,0])\n",
        "plt.plot(time, H[:,1,1])\n",
        "plt.plot(time, H[:,1,2])\n",
        "plt.plot(time, H[:,1,3])\n",
        "plt.plot(time, H[:,1,4])\n",
        "plt.legend(['0.02m', '0.06m', '0.1m', '0.14m', '0.18m'], loc = 'upper right')\n",
        "#plt.legend(h)\n",
        "plt.title(\"Height of Water over time under decreasing straw lengths\")\n",
        "plt.xlabel(\"Time (s)\")\n",
        "plt.grid(True)\n",
        "plt.ylabel(\"Height of water WRT Straw (m)\")\n",
        "#plt.yticks(np.arange(0, 0.1, 0.001))\n",
        "for i in range (iterations):\n",
        "  if H[i,1,4] < 3.7e-3:\n",
        "    print (H[i,0,2])\n",
        "    break"
      ],
      "execution_count": 75,
      "outputs": [
        {
          "output_type": "stream",
          "text": [
            "0.0\n"
          ],
          "name": "stdout"
        },
        {
          "output_type": "display_data",
          "data": {
            "image/png": "[encoded data removed]",
            "text/plain": [
              "<Figure size 432x288 with 1 Axes>"
            ]
          },
          "metadata": {
            "tags": [],
            "needs_background": "light"
          }
        }
      ]
    },
    {
      "cell_type": "code",
      "metadata": {
        "id": "fOTqGaHs8WRR",
        "colab_type": "code",
        "colab": {
          "base_uri": "https://localhost:8080/",
          "height": 90
        },
        "outputId": "a585f7c7-3f39-40c0-ba0c-645f7f10c27a"
      },
      "source": [
        "# Main code\n",
        "delta_t = [10,1,0.1,0.01]\n",
        "time_range = 70\n",
        "#iterations = int(time_range/delta_t)\n",
        "#time = np.arange (0.0, time_range, delta_t)\n",
        "#v2_guess = 5.0\n",
        "#c_guess = 6.0 # Assumes Re of 2000\n",
        "L = [0.02,0.06,0.1,0.14,0.18]\n",
        "#locker = False\n",
        "\n",
        "#h = 0.3 - 0.044\n",
        "grid_results1 = np.zeros((int(time_range/delta_t[0]),2))\n",
        "grid_results2 = np.zeros((int(time_range/delta_t[1]),2))\n",
        "grid_results3 = np.zeros((int(time_range/delta_t[2]),2))\n",
        "grid_results4 = np.zeros((int(time_range/delta_t[3]),2))\n",
        "\n",
        "######################\n",
        "i = 0\n",
        "v2_guess = 5.0\n",
        "c_guess = 6.0 # Assumes Re of 2000\n",
        "locker = False\n",
        "h = 0.3 - 0.044\n",
        "time = np.arange (0.0, time_range, delta_t[0])\n",
        "for t in time:\n",
        "  grid_results1[i,0] = t\n",
        "  h = h + RK4(h, delta_t[0], v2_guess, c_guess, L[0], locker)\n",
        "  grid_results1[i,1] = h\n",
        "    #print(H[i,1])\n",
        "    #print(RK4(h, delta_t, v2_guess, c_guess, L))\n",
        "  if h < 1e-4:\n",
        "    break\n",
        "  i += 1\n",
        "print (\"New Length\")\n",
        "######################\n",
        "\n",
        "######################\n",
        "i = 0\n",
        "v2_guess = 5.0\n",
        "c_guess = 6.0 # Assumes Re of 2000\n",
        "locker = False\n",
        "h = 0.3 - 0.044\n",
        "time = np.arange (0.0, time_range, delta_t[1])\n",
        "for t in time:\n",
        "  grid_results2[i,0] = t\n",
        "  h = h + RK4(h, delta_t[1], v2_guess, c_guess, L[0], locker)\n",
        "  grid_results2[i,1] = h\n",
        "    #print(H[i,1])\n",
        "    #print(RK4(h, delta_t, v2_guess, c_guess, L))\n",
        "  if h < 1e-4:\n",
        "    break\n",
        "  i += 1\n",
        "print (\"New Length\")\n",
        "######################\n",
        "\n",
        "######################\n",
        "i = 0\n",
        "v2_guess = 5.0\n",
        "c_guess = 6.0 # Assumes Re of 2000\n",
        "locker = False\n",
        "h = 0.3 - 0.044\n",
        "time = np.arange (0.0, time_range, delta_t[2])\n",
        "for t in time:\n",
        "  grid_results3[i,0] = t\n",
        "  h = h + RK4(h, delta_t[2], v2_guess, c_guess, L[0], locker)\n",
        "  grid_results3[i,1] = h\n",
        "    #print(H[i,1])\n",
        "    #print(RK4(h, delta_t, v2_guess, c_guess, L))\n",
        "  if h < 1e-4:\n",
        "    break\n",
        "  i += 1\n",
        "print (\"New Length\")\n",
        "######################\n",
        "\n",
        "######################\n",
        "i = 0\n",
        "v2_guess = 5.0\n",
        "c_guess = 6.0 # Assumes Re of 2000\n",
        "locker = False\n",
        "h = 0.3 - 0.044\n",
        "time = np.arange (0.0, time_range, delta_t[3])\n",
        "for t in time:\n",
        "  grid_results4[i,0] = t\n",
        "  h = h + RK4(h, delta_t[3], v2_guess, c_guess, L[0], locker)\n",
        "  grid_results4[i,1] = h\n",
        "    #print(H[i,1])\n",
        "    #print(RK4(h, delta_t, v2_guess, c_guess, L))\n",
        "  if h < 1e-4:\n",
        "    break\n",
        "  i += 1\n",
        "print (\"New Length\")\n",
        "######################"
      ],
      "execution_count": 76,
      "outputs": [
        {
          "output_type": "stream",
          "text": [
            "New Length\n",
            "New Length\n",
            "New Length\n",
            "New Length\n"
          ],
          "name": "stdout"
        }
      ]
    },
    {
      "cell_type": "code",
      "metadata": {
        "id": "tM3WnxHnGUZw",
        "colab_type": "code",
        "colab": {
          "base_uri": "https://localhost:8080/",
          "height": 313
        },
        "outputId": "6abbd5d5-ac2f-4daf-dd45-62907ca707ec"
      },
      "source": [
        "#print (grid_results1)\n",
        "#print (grid_results2)\n",
        "\n",
        "plt.plot(np.arange (0.0, time_range, delta_t[0]),grid_results1[:,1])\n",
        "plt.plot(np.arange (0.0, time_range, delta_t[1]),grid_results2[:,1])\n",
        "plt.plot(np.arange (0.0, time_range, delta_t[2]),grid_results3[:,1])\n",
        "plt.plot(np.arange (0.0, time_range, delta_t[3]),grid_results4[:,1])\n",
        "\n",
        "plt.title(\"Grid Covergence of Solver at L=0.02\")\n",
        "plt.legend(['10s','1s', '0.1s', '0.01s'], loc = 'upper right')\n",
        "plt.xlabel(\"Time (s)\")\n",
        "plt.grid(True)\n",
        "plt.ylabel(\"Height of water WRT Straw (m)\")"
      ],
      "execution_count": 77,
      "outputs": [
        {
          "output_type": "execute_result",
          "data": {
            "text/plain": [
              "Text(0, 0.5, 'Height of water WRT Straw (m)')"
            ]
          },
          "metadata": {
            "tags": []
          },
          "execution_count": 77
        },
        {
          "output_type": "display_data",
          "data": {
            "image/png": "[encoded data removed]",
            "text/plain": [
              "<Figure size 432x288 with 1 Axes>"
            ]
          },
          "metadata": {
            "tags": [],
            "needs_background": "light"
          }
        }
      ]
    },
    {
      "cell_type": "code",
      "metadata": {
        "id": "C30_dWezx-5k",
        "colab_type": "code",
        "colab": {}
      },
      "source": [
        ""
      ],
      "execution_count": 78,
      "outputs": []
    }
  ]
}